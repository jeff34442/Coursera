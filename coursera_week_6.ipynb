{
 "cells": [
  {
   "cell_type": "markdown",
   "metadata": {},
   "source": [
    "<center>\n",
    "    <img src=\"https://cf-courses-data.s3.us.cloud-object-storage.appdomain.cloud/IBMDeveloperSkillsNetwork-DS0105EN-SkillsNetwork/labs/Module2/images/SN_web_lightmode.png\" width=\"300\" alt=\"cognitiveclass.ai logo\">\n",
    "</center>\n"
   ]
  },
  {
   "cell_type": "markdown",
   "metadata": {},
   "source": [
    "#### Add your code below following the instructions given in the course\n"
   ]
  },
  {
   "cell_type": "markdown",
   "metadata": {
    "tags": []
   },
   "source": [
    "# Data Science Week 6"
   ]
  },
  {
   "cell_type": "markdown",
   "metadata": {},
   "source": [
    "**Jeffrey Wang** "
   ]
  },
  {
   "cell_type": "markdown",
   "metadata": {},
   "source": [
    "## Introduction:"
   ]
  },
  {
   "cell_type": "markdown",
   "metadata": {},
   "source": [
    "In this notebook, data science tools and descriptions are provided"
   ]
  },
  {
   "cell_type": "markdown",
   "metadata": {},
   "source": [
    "### Data Science Languages:\n",
    "1. Python \n",
    "2. R\n",
    "3. SQL\n",
    "4. Julia\n",
    "5. Scala\n",
    "6. Java Script\n",
    "7. MATLAB"
   ]
  },
  {
   "cell_type": "markdown",
   "metadata": {},
   "source": [
    "### Data Science Libraries\n",
    "\n",
    "- **Python Libraries**\n",
    "  - Pandas\n",
    "  - NumPy\n",
    "  - Matplotlib\n",
    "  - Seaborn\n",
    "  - Scikit-learn\n",
    "  - TensorFlow\n",
    "  - PyTorch\n",
    "- **R Libraries**\n",
    "  - ggplot2\n",
    "  - dplyr\n",
    "  - tidyr\n",
    "  - caret\n",
    "  - shiny"
   ]
  },
  {
   "cell_type": "markdown",
   "metadata": {},
   "source": [
    "### Data Science Tools\n",
    "\n",
    "| Category           |\n",
    "|--------------------|\n",
    "| Anaconda |\n",
    "| Jupyter Notebooks |\n",
    "| R Studio | \n",
    "| Spyder | \n",
    "| Zeppelin   |"
   ]
  },
  {
   "cell_type": "markdown",
   "metadata": {},
   "source": [
    "### Arithmetic Expression Examples\n",
    "\n",
    "Arithmetic expressions are combinations of numbers, operators, and sometimes parentheses that are evaluated to produce a result. Here are some common examples:\n",
    "\n",
    "- **Addition:** `5 + 3` evaluates to `8`.\n",
    "- **Subtraction:** `10 - 4` evaluates to `6`.\n",
    "- **Multiplication:** `7 * 2` evaluates to `14`.\n",
    "- **Division:** `20 / 5` evaluates to `4`.\n",
    "- **Exponentiation:** `2 ** 3` evaluates to `8`, meaning 2 raised to the power of 3.\n",
    "- **Modulus:** `10 % 3` evaluates to `1`, which is the remainder of the division of 10 by 3.\n",
    "- **Complex Expression:** `(5 + 3) * 2` evaluates to `16`. Parentheses are used to alter the normal precedence of operations.\n"
   ]
  },
  {
   "cell_type": "markdown",
   "metadata": {},
   "source": [
    "### Below are a few examples of evaluating arithmetic expressions in Python"
   ]
  },
  {
   "cell_type": "code",
   "execution_count": 1,
   "metadata": {
    "tags": []
   },
   "outputs": [
    {
     "name": "stdout",
     "output_type": "stream",
     "text": [
      "17\n"
     ]
    }
   ],
   "source": [
    "(3*4) + 5\n",
    "#This is a arithmetic expression to multiply and add integers"
   ]
  },
  {
   "cell_type": "code",
   "execution_count": 2,
   "metadata": {
    "tags": []
   },
   "outputs": [
    {
     "data": {
      "text/plain": [
       "3.3333333333333335"
      ]
     },
     "execution_count": 2,
     "metadata": {},
     "output_type": "execute_result"
    }
   ],
   "source": [
    "200/60\n",
    "#This will convert 200 minutes to hours by dividing by 60"
   ]
  },
  {
   "cell_type": "markdown",
   "metadata": {},
   "source": [
    "### Objectives: \n",
    "* Add comments to code cells\n",
    "* Create markdown cells\n",
    "* Add ordered and unordered lists of markdown cells\n",
    "* Format content of markdown cells with heading styles"
   ]
  },
  {
   "cell_type": "markdown",
   "metadata": {
    "tags": []
   },
   "source": [
    "## Author:\n",
    "Jeffrey Wang"
   ]
  },
  {
   "cell_type": "code",
   "execution_count": null,
   "metadata": {},
   "outputs": [],
   "source": []
  }
 ],
 "metadata": {
  "kernelspec": {
   "display_name": "Python 3",
   "language": "python",
   "name": "python3"
  },
  "language_info": {
   "codemirror_mode": {
    "name": "ipython",
    "version": 3
   },
   "file_extension": ".py",
   "mimetype": "text/x-python",
   "name": "python",
   "nbconvert_exporter": "python",
   "pygments_lexer": "ipython3",
   "version": "3.8.10"
  }
 },
 "nbformat": 4,
 "nbformat_minor": 4
}
