{
 "cells": [
  {
   "cell_type": "markdown",
   "metadata": {},
   "source": [
    "<center>\n",
    "    <img src=\"https://cf-courses-data.s3.us.cloud-object-storage.appdomain.cloud/IBMDeveloperSkillsNetwork-DS0105EN-SkillsNetwork/labs/Module2/images/SN_web_lightmode.png\" width=\"300\" alt=\"cognitiveclass.ai logo\">\n",
    "</center>\n"
   ]
  },
  {
   "cell_type": "markdown",
   "metadata": {},
   "source": [
    "#### Add your code below following the instructions given in the course\n"
   ]
  },
  {
   "cell_type": "markdown",
   "metadata": {
    "tags": []
   },
   "source": [
    "# Data Science Week 6"
   ]
  },
  {
   "cell_type": "markdown",
   "metadata": {},
   "source": [
    "**Jeffrey Wang** "
   ]
  },
  {
   "cell_type": "markdown",
   "metadata": {},
   "source": [
    "## Introduction:"
   ]
  },
  {
   "cell_type": "markdown",
   "metadata": {},
   "source": [
    "With a diverse background encompassing data science, data engineering, and software engineering, I have collaborated with various organizations, serving as an in-house consultant to harness the power of data for generating tangible value. My work primarily focuses on developing micro-services and extracting insights that propel business decisions. Driven by a deep passion for process optimization and leveraging data for actionable intelligence, I continuously seek innovative ways to make data work harder and smarter for businesses. "
   ]
  },
  {
   "cell_type": "markdown",
   "metadata": {},
   "source": [
    "## Objective:"
   ]
  },
  {
   "cell_type": "markdown",
   "metadata": {},
   "source": [
    "In this notebook, we will showcase not only Jupyter notebook markdown functionality but also provide a baseline of knowledge on data science tools"
   ]
  },
  {
   "cell_type": "markdown",
   "metadata": {},
   "source": [
    "### Data Science Languages:\n",
    "1. Python \n",
    "2. R\n",
    "3. SQL\n",
    "4. Julia\n",
    "5. Scala\n",
    "6. Java\n",
    "7. MATLAB"
   ]
  },
  {
   "cell_type": "markdown",
   "metadata": {},
   "source": [
    "### Data Science Libraries\n",
    "\n",
    "- **Python Libraries**\n",
    "  - Pandas: Data manipulation and analysis.\n",
    "  - NumPy: Numerical computing with powerful n-dimensional array objects.\n",
    "  - Matplotlib: Visualization library to create static, animated, and interactive plots.\n",
    "  - Seaborn: Statistical data visualization based on Matplotlib.\n",
    "  - Scikit-learn: Machine learning library for modeling and prediction.\n",
    "  - TensorFlow: An end-to-end open-source platform for machine learning.\n",
    "  - PyTorch: An open-source machine learning library for deep learning applications.\n",
    "\n",
    "- **R Libraries**\n",
    "  - ggplot2: Data visualization package based on the grammar of graphics.\n",
    "  - dplyr: A grammar for data manipulation, focused on tools for working with data frames.\n",
    "  - tidyr: Tools for changing the layout of datasets between long and wide formats.\n",
    "  - caret: Classification and regression training to streamline the model training process for complex regression and classification problems.\n",
    "  - shiny: Web application framework for R, making it easy to build interactive web apps straight from R."
   ]
  },
  {
   "cell_type": "markdown",
   "metadata": {},
   "source": [
    "### Data Science Tools\n",
    "\n",
    "| Category           | Tool Name         | Description                                              |\n",
    "|--------------------|-------------------|----------------------------------------------------------|\n",
    "| Programming Languages | Python           | Versatile language with extensive support for data science and machine learning. |\n",
    "| Programming Languages | R               | Language and environment for statistical computing and graphics. |\n",
    "| Data Visualization | Matplotlib       | Python plotting library for creating static, animated, and interactive visualizations. |\n",
    "| Data Visualization | ggplot2          | R-based data visualization package using the grammar of graphics. |\n",
    "| Machine Learning   | Scikit-learn     | Python library for machine learning, with simple and efficient tools for data mining and data analysis. |\n",
    "| Machine Learning   | TensorFlow       | Open-source platform for machine learning and artificial intelligence. |\n",
    "| Deep Learning      | PyTorch          | Open-source machine learning library based on the Torch library, for applications such as computer vision and natural language processing. |\n",
    "| Big Data           | Apache Hadoop    | Framework that allows for the distributed processing of large data sets across clusters of computers. |\n",
    "| Big Data           | Apache Spark     | Unified analytics engine for big data processing, with built-in modules for streaming, SQL, machine learning, and graph processing. |\n",
    "| Data Wrangling     | Pandas           | Python library providing high-performance, easy-to-use data structures, and data analysis tools. |\n",
    "| Data Wrangling     | Dplyr            | R package for data manipulation, offering a consistent set of verbs that help you solve the most common data manipulation challenges. |\n",
    "| Statistical Analysis | R               | Comprehensive system for statistical analysis and graphics, with a wide variety of statistical and graphical techniques. |\n",
    "| Statistical Analysis | SAS              | Software suite used for advanced analytics, multivariate analysis, business intelligence, data management, and predictive analytics. |\n"
   ]
  },
  {
   "cell_type": "markdown",
   "metadata": {},
   "source": [
    "### Arithmetic Expression Examples\n",
    "\n",
    "Arithmetic expressions are combinations of numbers, operators, and sometimes parentheses that are evaluated to produce a result. Here are some common examples:\n",
    "\n",
    "- **Addition:** `5 + 3` evaluates to `8`.\n",
    "- **Subtraction:** `10 - 4` evaluates to `6`.\n",
    "- **Multiplication:** `7 * 2` evaluates to `14`.\n",
    "- **Division:** `20 / 5` evaluates to `4`.\n",
    "- **Exponentiation:** `2 ** 3` evaluates to `8`, meaning 2 raised to the power of 3.\n",
    "- **Modulus:** `10 % 3` evaluates to `1`, which is the remainder of the division of 10 by 3.\n",
    "- **Complex Expression:** `(5 + 3) * 2` evaluates to `16`. Parentheses are used to alter the normal precedence of operations.\n"
   ]
  },
  {
   "cell_type": "markdown",
   "metadata": {},
   "source": [
    "### Multiplication"
   ]
  },
  {
   "cell_type": "code",
   "execution_count": null,
   "metadata": {
    "tags": []
   },
   "outputs": [],
   "source": [
    "def multiply(a, b):\n",
    "    return a*b"
   ]
  },
  {
   "cell_type": "markdown",
   "metadata": {},
   "source": [
    "### Addition"
   ]
  },
  {
   "cell_type": "code",
   "execution_count": null,
   "metadata": {
    "tags": []
   },
   "outputs": [],
   "source": [
    "def add(a, b):\n",
    "    return a+b"
   ]
  },
  {
   "cell_type": "markdown",
   "metadata": {},
   "source": [
    "### Minutes to Hours"
   ]
  },
  {
   "cell_type": "code",
   "execution_count": null,
   "metadata": {
    "tags": []
   },
   "outputs": [],
   "source": [
    "def min_to_hr(minutes):\n",
    "    return minutes / 60"
   ]
  },
  {
   "cell_type": "code",
   "execution_count": null,
   "metadata": {},
   "outputs": [],
   "source": []
  }
 ],
 "metadata": {
  "kernelspec": {
   "display_name": "Python",
   "language": "python",
   "name": "conda-env-python-py"
  },
  "language_info": {
   "codemirror_mode": {
    "name": "ipython",
    "version": 3
   },
   "file_extension": ".py",
   "mimetype": "text/x-python",
   "name": "python",
   "nbconvert_exporter": "python",
   "pygments_lexer": "ipython3",
   "version": "3.7.12"
  }
 },
 "nbformat": 4,
 "nbformat_minor": 4
}
